{
 "cells": [
  {
   "cell_type": "markdown",
   "metadata": {},
   "source": [
    "# Predicting Accelerometer Input"
   ]
  },
  {
   "cell_type": "markdown",
   "metadata": {},
   "source": [
    "## Introduction"
   ]
  },
  {
   "cell_type": "markdown",
   "metadata": {},
   "source": [
    "### Goals and Keysteps"
   ]
  },
  {
   "cell_type": "markdown",
   "metadata": {},
   "source": [
    "This section will describe the dataset and summarizes the goal of the project and key steps that were performed.\n",
    "\n",
    "Four dataset will be used as provided at the course instruction. Those are `train_labels.csv` (`df1`), `train_time_series.csv` (`df2`), `test label.csv` (`df3`), and `test_time_series` (`df4`). Please note that only the necessary column will be used. Thus `.drop` function is used for each dataset.\n",
    "\n",
    "`df1` and `df2` will be concatenated using `pd.concat` to form new dataset which will be stored as `train_data`, meanwhile `df3` and `df4` will be stored as `test_data`.\n",
    "The $goal$ of this project is to predict the value of the `label` from the `test_time_series` (`df4`).\n",
    "\n",
    "Key steps:\n",
    "- Data cleaning: Preparing the dataset `train_data` and `test_data` \n",
    "- Training the data set from the `train_data` set using `RandonForestCalssifier`\n",
    "- Evaluating the accuracy and plotting `confusion_matrix`\n",
    "- Testing the data set into the `test_data` set"
   ]
  },
  {
   "cell_type": "markdown",
   "metadata": {},
   "source": [
    "### Importing the Dataset"
   ]
  },
  {
   "cell_type": "code",
   "execution_count": 1,
   "metadata": {},
   "outputs": [],
   "source": [
    "import time\n",
    "import pandas as pd\n",
    "import numpy as np\n",
    "import scipy.stats as stats\n",
    "import matplotlib.pyplot as plt\n",
    "from sklearn.model_selection import train_test_split\n",
    "from sklearn.preprocessing import StandardScaler, LabelEncoder\n",
    "from sklearn.ensemble import RandomForestClassifier\n",
    "from sklearn.metrics import confusion_matrix, accuracy_score\n",
    "from mlxtend.plotting import plot_confusion_matrix\n",
    "from sklearn.metrics import confusion_matrix"
   ]
  },
  {
   "cell_type": "markdown",
   "metadata": {},
   "source": [
    "### Creating Train Dataset "
   ]
  },
  {
   "cell_type": "code",
   "execution_count": 2,
   "metadata": {},
   "outputs": [
    {
     "data": {
      "text/html": [
       "<div>\n",
       "<style scoped>\n",
       "    .dataframe tbody tr th:only-of-type {\n",
       "        vertical-align: middle;\n",
       "    }\n",
       "\n",
       "    .dataframe tbody tr th {\n",
       "        vertical-align: top;\n",
       "    }\n",
       "\n",
       "    .dataframe thead th {\n",
       "        text-align: right;\n",
       "    }\n",
       "</style>\n",
       "<table border=\"1\" class=\"dataframe\">\n",
       "  <thead>\n",
       "    <tr style=\"text-align: right;\">\n",
       "      <th></th>\n",
       "      <th>UTC time</th>\n",
       "      <th>x</th>\n",
       "      <th>y</th>\n",
       "      <th>z</th>\n",
       "    </tr>\n",
       "    <tr>\n",
       "      <th>Unnamed: 0</th>\n",
       "      <th></th>\n",
       "      <th></th>\n",
       "      <th></th>\n",
       "      <th></th>\n",
       "    </tr>\n",
       "  </thead>\n",
       "  <tbody>\n",
       "    <tr>\n",
       "      <th>20586</th>\n",
       "      <td>2019-08-06T16:45:30.787</td>\n",
       "      <td>-0.006485</td>\n",
       "      <td>-0.934860</td>\n",
       "      <td>-0.069046</td>\n",
       "    </tr>\n",
       "    <tr>\n",
       "      <th>20587</th>\n",
       "      <td>2019-08-06T16:45:30.887</td>\n",
       "      <td>-0.066467</td>\n",
       "      <td>-1.015442</td>\n",
       "      <td>0.089554</td>\n",
       "    </tr>\n",
       "    <tr>\n",
       "      <th>20588</th>\n",
       "      <td>2019-08-06T16:45:30.987</td>\n",
       "      <td>-0.043488</td>\n",
       "      <td>-1.021255</td>\n",
       "      <td>0.178467</td>\n",
       "    </tr>\n",
       "    <tr>\n",
       "      <th>20589</th>\n",
       "      <td>2019-08-06T16:45:31.087</td>\n",
       "      <td>-0.053802</td>\n",
       "      <td>-0.987701</td>\n",
       "      <td>0.068985</td>\n",
       "    </tr>\n",
       "    <tr>\n",
       "      <th>20590</th>\n",
       "      <td>2019-08-06T16:45:31.188</td>\n",
       "      <td>-0.054031</td>\n",
       "      <td>-1.003616</td>\n",
       "      <td>0.126450</td>\n",
       "    </tr>\n",
       "    <tr>\n",
       "      <th>...</th>\n",
       "      <td>...</td>\n",
       "      <td>...</td>\n",
       "      <td>...</td>\n",
       "      <td>...</td>\n",
       "    </tr>\n",
       "    <tr>\n",
       "      <th>24325</th>\n",
       "      <td>2019-08-06T16:51:45.638</td>\n",
       "      <td>0.024384</td>\n",
       "      <td>-0.710709</td>\n",
       "      <td>0.030304</td>\n",
       "    </tr>\n",
       "    <tr>\n",
       "      <th>24326</th>\n",
       "      <td>2019-08-06T16:51:45.738</td>\n",
       "      <td>0.487228</td>\n",
       "      <td>-1.099136</td>\n",
       "      <td>-0.015213</td>\n",
       "    </tr>\n",
       "    <tr>\n",
       "      <th>24327</th>\n",
       "      <td>2019-08-06T16:51:45.838</td>\n",
       "      <td>0.369446</td>\n",
       "      <td>-0.968506</td>\n",
       "      <td>0.036713</td>\n",
       "    </tr>\n",
       "    <tr>\n",
       "      <th>24328</th>\n",
       "      <td>2019-08-06T16:51:45.939</td>\n",
       "      <td>0.167877</td>\n",
       "      <td>-0.802826</td>\n",
       "      <td>0.049805</td>\n",
       "    </tr>\n",
       "    <tr>\n",
       "      <th>24329</th>\n",
       "      <td>2019-08-06T16:51:46.039</td>\n",
       "      <td>0.689346</td>\n",
       "      <td>-0.991043</td>\n",
       "      <td>0.034973</td>\n",
       "    </tr>\n",
       "  </tbody>\n",
       "</table>\n",
       "<p>3744 rows × 4 columns</p>\n",
       "</div>"
      ],
      "text/plain": [
       "                           UTC time         x         y         z\n",
       "Unnamed: 0                                                       \n",
       "20586       2019-08-06T16:45:30.787 -0.006485 -0.934860 -0.069046\n",
       "20587       2019-08-06T16:45:30.887 -0.066467 -1.015442  0.089554\n",
       "20588       2019-08-06T16:45:30.987 -0.043488 -1.021255  0.178467\n",
       "20589       2019-08-06T16:45:31.087 -0.053802 -0.987701  0.068985\n",
       "20590       2019-08-06T16:45:31.188 -0.054031 -1.003616  0.126450\n",
       "...                             ...       ...       ...       ...\n",
       "24325       2019-08-06T16:51:45.638  0.024384 -0.710709  0.030304\n",
       "24326       2019-08-06T16:51:45.738  0.487228 -1.099136 -0.015213\n",
       "24327       2019-08-06T16:51:45.838  0.369446 -0.968506  0.036713\n",
       "24328       2019-08-06T16:51:45.939  0.167877 -0.802826  0.049805\n",
       "24329       2019-08-06T16:51:46.039  0.689346 -0.991043  0.034973\n",
       "\n",
       "[3744 rows x 4 columns]"
      ]
     },
     "execution_count": 2,
     "metadata": {},
     "output_type": "execute_result"
    }
   ],
   "source": [
    "df1 = pd.read_csv(\"train_time_series.csv\")\n",
    "df1 = df1.drop(\"timestamp\", axis=1)\n",
    "df1 = df1.drop(\"accuracy\", axis=1)\n",
    "df1 = df1.set_index('Unnamed: 0')\n",
    "df1"
   ]
  },
  {
   "cell_type": "markdown",
   "metadata": {},
   "source": [
    "`df1` is sampled every 0.1 sec."
   ]
  },
  {
   "cell_type": "code",
   "execution_count": 3,
   "metadata": {},
   "outputs": [
    {
     "data": {
      "text/html": [
       "<div>\n",
       "<style scoped>\n",
       "    .dataframe tbody tr th:only-of-type {\n",
       "        vertical-align: middle;\n",
       "    }\n",
       "\n",
       "    .dataframe tbody tr th {\n",
       "        vertical-align: top;\n",
       "    }\n",
       "\n",
       "    .dataframe thead th {\n",
       "        text-align: right;\n",
       "    }\n",
       "</style>\n",
       "<table border=\"1\" class=\"dataframe\">\n",
       "  <thead>\n",
       "    <tr style=\"text-align: right;\">\n",
       "      <th></th>\n",
       "      <th>label</th>\n",
       "    </tr>\n",
       "    <tr>\n",
       "      <th>Unnamed: 0</th>\n",
       "      <th></th>\n",
       "    </tr>\n",
       "  </thead>\n",
       "  <tbody>\n",
       "    <tr>\n",
       "      <th>20589</th>\n",
       "      <td>1</td>\n",
       "    </tr>\n",
       "    <tr>\n",
       "      <th>20599</th>\n",
       "      <td>1</td>\n",
       "    </tr>\n",
       "    <tr>\n",
       "      <th>20609</th>\n",
       "      <td>1</td>\n",
       "    </tr>\n",
       "    <tr>\n",
       "      <th>20619</th>\n",
       "      <td>1</td>\n",
       "    </tr>\n",
       "    <tr>\n",
       "      <th>20629</th>\n",
       "      <td>1</td>\n",
       "    </tr>\n",
       "    <tr>\n",
       "      <th>...</th>\n",
       "      <td>...</td>\n",
       "    </tr>\n",
       "    <tr>\n",
       "      <th>24289</th>\n",
       "      <td>4</td>\n",
       "    </tr>\n",
       "    <tr>\n",
       "      <th>24299</th>\n",
       "      <td>4</td>\n",
       "    </tr>\n",
       "    <tr>\n",
       "      <th>24309</th>\n",
       "      <td>4</td>\n",
       "    </tr>\n",
       "    <tr>\n",
       "      <th>24319</th>\n",
       "      <td>4</td>\n",
       "    </tr>\n",
       "    <tr>\n",
       "      <th>24329</th>\n",
       "      <td>4</td>\n",
       "    </tr>\n",
       "  </tbody>\n",
       "</table>\n",
       "<p>375 rows × 1 columns</p>\n",
       "</div>"
      ],
      "text/plain": [
       "            label\n",
       "Unnamed: 0       \n",
       "20589           1\n",
       "20599           1\n",
       "20609           1\n",
       "20619           1\n",
       "20629           1\n",
       "...           ...\n",
       "24289           4\n",
       "24299           4\n",
       "24309           4\n",
       "24319           4\n",
       "24329           4\n",
       "\n",
       "[375 rows x 1 columns]"
      ]
     },
     "execution_count": 3,
     "metadata": {},
     "output_type": "execute_result"
    }
   ],
   "source": [
    "df2 = pd.read_csv(\"train_labels.csv\")\n",
    "df2 = df2.drop(\"timestamp\", axis=1)\n",
    "df2 = df2.drop(\"UTC time\", axis=1)\n",
    "df2 = df2.set_index('Unnamed: 0')\n",
    "df2"
   ]
  },
  {
   "cell_type": "markdown",
   "metadata": {},
   "source": [
    "`df2` is sampled every 1 sec. Following encoding will be used:\n",
    "- 1: standing\n",
    "- 2: walking\n",
    "- 3: stairs down\n",
    "- 4: stairs up"
   ]
  },
  {
   "cell_type": "code",
   "execution_count": 4,
   "metadata": {},
   "outputs": [
    {
     "data": {
      "text/plain": [
       "UTC time    0\n",
       "x           0\n",
       "y           0\n",
       "z           0\n",
       "label       3\n",
       "dtype: int64"
      ]
     },
     "execution_count": 4,
     "metadata": {},
     "output_type": "execute_result"
    }
   ],
   "source": [
    "#ffill method is used to downward fill the missing label from each row\n",
    "train_data = pd.concat([df1, df2], axis=1)\n",
    "train_data = train_data.fillna(method='ffill')\n",
    "train_data.isna().sum()"
   ]
  },
  {
   "cell_type": "code",
   "execution_count": 5,
   "metadata": {},
   "outputs": [
    {
     "data": {
      "text/plain": [
       "UTC time     object\n",
       "x           float64\n",
       "y           float64\n",
       "z           float64\n",
       "label       float64\n",
       "dtype: object"
      ]
     },
     "execution_count": 5,
     "metadata": {},
     "output_type": "execute_result"
    }
   ],
   "source": [
    "train_data = train_data.dropna()\n",
    "train_data.dtypes"
   ]
  },
  {
   "cell_type": "code",
   "execution_count": 6,
   "metadata": {},
   "outputs": [
    {
     "data": {
      "text/plain": [
       "UTC time    0\n",
       "x           0\n",
       "y           0\n",
       "z           0\n",
       "label       0\n",
       "dtype: int64"
      ]
     },
     "execution_count": 6,
     "metadata": {},
     "output_type": "execute_result"
    }
   ],
   "source": [
    "train_data.isna().sum()"
   ]
  },
  {
   "cell_type": "code",
   "execution_count": 7,
   "metadata": {},
   "outputs": [
    {
     "data": {
      "text/html": [
       "<div>\n",
       "<style scoped>\n",
       "    .dataframe tbody tr th:only-of-type {\n",
       "        vertical-align: middle;\n",
       "    }\n",
       "\n",
       "    .dataframe tbody tr th {\n",
       "        vertical-align: top;\n",
       "    }\n",
       "\n",
       "    .dataframe thead th {\n",
       "        text-align: right;\n",
       "    }\n",
       "</style>\n",
       "<table border=\"1\" class=\"dataframe\">\n",
       "  <thead>\n",
       "    <tr style=\"text-align: right;\">\n",
       "      <th></th>\n",
       "      <th>x</th>\n",
       "      <th>y</th>\n",
       "      <th>z</th>\n",
       "      <th>label</th>\n",
       "      <th>activity</th>\n",
       "    </tr>\n",
       "    <tr>\n",
       "      <th>UTC time</th>\n",
       "      <th></th>\n",
       "      <th></th>\n",
       "      <th></th>\n",
       "      <th></th>\n",
       "      <th></th>\n",
       "    </tr>\n",
       "  </thead>\n",
       "  <tbody>\n",
       "    <tr>\n",
       "      <th>2019-08-06T16:45:31.087</th>\n",
       "      <td>-0.053802</td>\n",
       "      <td>-0.987701</td>\n",
       "      <td>0.068985</td>\n",
       "      <td>1.0</td>\n",
       "      <td>standing</td>\n",
       "    </tr>\n",
       "    <tr>\n",
       "      <th>2019-08-06T16:45:31.188</th>\n",
       "      <td>-0.054031</td>\n",
       "      <td>-1.003616</td>\n",
       "      <td>0.126450</td>\n",
       "      <td>1.0</td>\n",
       "      <td>standing</td>\n",
       "    </tr>\n",
       "    <tr>\n",
       "      <th>2019-08-06T16:45:31.288</th>\n",
       "      <td>-0.010880</td>\n",
       "      <td>-0.967575</td>\n",
       "      <td>0.170898</td>\n",
       "      <td>1.0</td>\n",
       "      <td>standing</td>\n",
       "    </tr>\n",
       "    <tr>\n",
       "      <th>2019-08-06T16:45:31.388</th>\n",
       "      <td>0.052841</td>\n",
       "      <td>-0.982330</td>\n",
       "      <td>0.235565</td>\n",
       "      <td>1.0</td>\n",
       "      <td>standing</td>\n",
       "    </tr>\n",
       "    <tr>\n",
       "      <th>2019-08-06T16:45:31.488</th>\n",
       "      <td>0.032974</td>\n",
       "      <td>-1.053207</td>\n",
       "      <td>0.256714</td>\n",
       "      <td>1.0</td>\n",
       "      <td>standing</td>\n",
       "    </tr>\n",
       "    <tr>\n",
       "      <th>...</th>\n",
       "      <td>...</td>\n",
       "      <td>...</td>\n",
       "      <td>...</td>\n",
       "      <td>...</td>\n",
       "      <td>...</td>\n",
       "    </tr>\n",
       "    <tr>\n",
       "      <th>2019-08-06T16:51:45.638</th>\n",
       "      <td>0.024384</td>\n",
       "      <td>-0.710709</td>\n",
       "      <td>0.030304</td>\n",
       "      <td>4.0</td>\n",
       "      <td>stairs up</td>\n",
       "    </tr>\n",
       "    <tr>\n",
       "      <th>2019-08-06T16:51:45.738</th>\n",
       "      <td>0.487228</td>\n",
       "      <td>-1.099136</td>\n",
       "      <td>-0.015213</td>\n",
       "      <td>4.0</td>\n",
       "      <td>stairs up</td>\n",
       "    </tr>\n",
       "    <tr>\n",
       "      <th>2019-08-06T16:51:45.838</th>\n",
       "      <td>0.369446</td>\n",
       "      <td>-0.968506</td>\n",
       "      <td>0.036713</td>\n",
       "      <td>4.0</td>\n",
       "      <td>stairs up</td>\n",
       "    </tr>\n",
       "    <tr>\n",
       "      <th>2019-08-06T16:51:45.939</th>\n",
       "      <td>0.167877</td>\n",
       "      <td>-0.802826</td>\n",
       "      <td>0.049805</td>\n",
       "      <td>4.0</td>\n",
       "      <td>stairs up</td>\n",
       "    </tr>\n",
       "    <tr>\n",
       "      <th>2019-08-06T16:51:46.039</th>\n",
       "      <td>0.689346</td>\n",
       "      <td>-0.991043</td>\n",
       "      <td>0.034973</td>\n",
       "      <td>4.0</td>\n",
       "      <td>stairs up</td>\n",
       "    </tr>\n",
       "  </tbody>\n",
       "</table>\n",
       "<p>3741 rows × 5 columns</p>\n",
       "</div>"
      ],
      "text/plain": [
       "                                x         y         z  label   activity\n",
       "UTC time                                                               \n",
       "2019-08-06T16:45:31.087 -0.053802 -0.987701  0.068985    1.0   standing\n",
       "2019-08-06T16:45:31.188 -0.054031 -1.003616  0.126450    1.0   standing\n",
       "2019-08-06T16:45:31.288 -0.010880 -0.967575  0.170898    1.0   standing\n",
       "2019-08-06T16:45:31.388  0.052841 -0.982330  0.235565    1.0   standing\n",
       "2019-08-06T16:45:31.488  0.032974 -1.053207  0.256714    1.0   standing\n",
       "...                           ...       ...       ...    ...        ...\n",
       "2019-08-06T16:51:45.638  0.024384 -0.710709  0.030304    4.0  stairs up\n",
       "2019-08-06T16:51:45.738  0.487228 -1.099136 -0.015213    4.0  stairs up\n",
       "2019-08-06T16:51:45.838  0.369446 -0.968506  0.036713    4.0  stairs up\n",
       "2019-08-06T16:51:45.939  0.167877 -0.802826  0.049805    4.0  stairs up\n",
       "2019-08-06T16:51:46.039  0.689346 -0.991043  0.034973    4.0  stairs up\n",
       "\n",
       "[3741 rows x 5 columns]"
      ]
     },
     "execution_count": 7,
     "metadata": {},
     "output_type": "execute_result"
    }
   ],
   "source": [
    "train_data.loc[train_data['label']==1,'activity']='standing'\n",
    "train_data.loc[train_data['label']==2,'activity']='walking'\n",
    "train_data.loc[train_data['label']==3,'activity']='stairs down'\n",
    "train_data.loc[train_data['label']==4,'activity']='stairs up'\n",
    "train_data.set_index('UTC time')"
   ]
  },
  {
   "cell_type": "code",
   "execution_count": 8,
   "metadata": {},
   "outputs": [
    {
     "data": {
      "text/html": [
       "<div>\n",
       "<style scoped>\n",
       "    .dataframe tbody tr th:only-of-type {\n",
       "        vertical-align: middle;\n",
       "    }\n",
       "\n",
       "    .dataframe tbody tr th {\n",
       "        vertical-align: top;\n",
       "    }\n",
       "\n",
       "    .dataframe thead th {\n",
       "        text-align: right;\n",
       "    }\n",
       "</style>\n",
       "<table border=\"1\" class=\"dataframe\">\n",
       "  <thead>\n",
       "    <tr style=\"text-align: right;\">\n",
       "      <th></th>\n",
       "      <th>UTC time</th>\n",
       "    </tr>\n",
       "    <tr>\n",
       "      <th>Unnamed: 0</th>\n",
       "      <th></th>\n",
       "    </tr>\n",
       "  </thead>\n",
       "  <tbody>\n",
       "    <tr>\n",
       "      <th>24339</th>\n",
       "      <td>2019-08-06T16:51:47.041</td>\n",
       "    </tr>\n",
       "    <tr>\n",
       "      <th>24349</th>\n",
       "      <td>2019-08-06T16:51:48.043</td>\n",
       "    </tr>\n",
       "    <tr>\n",
       "      <th>24359</th>\n",
       "      <td>2019-08-06T16:51:49.046</td>\n",
       "    </tr>\n",
       "    <tr>\n",
       "      <th>24369</th>\n",
       "      <td>2019-08-06T16:51:50.048</td>\n",
       "    </tr>\n",
       "    <tr>\n",
       "      <th>24379</th>\n",
       "      <td>2019-08-06T16:51:51.050</td>\n",
       "    </tr>\n",
       "    <tr>\n",
       "      <th>...</th>\n",
       "      <td>...</td>\n",
       "    </tr>\n",
       "    <tr>\n",
       "      <th>25539</th>\n",
       "      <td>2019-08-06T16:53:47.366</td>\n",
       "    </tr>\n",
       "    <tr>\n",
       "      <th>25549</th>\n",
       "      <td>2019-08-06T16:53:48.369</td>\n",
       "    </tr>\n",
       "    <tr>\n",
       "      <th>25559</th>\n",
       "      <td>2019-08-06T16:53:49.371</td>\n",
       "    </tr>\n",
       "    <tr>\n",
       "      <th>25569</th>\n",
       "      <td>2019-08-06T16:53:50.373</td>\n",
       "    </tr>\n",
       "    <tr>\n",
       "      <th>25579</th>\n",
       "      <td>2019-08-06T16:53:51.376</td>\n",
       "    </tr>\n",
       "  </tbody>\n",
       "</table>\n",
       "<p>125 rows × 1 columns</p>\n",
       "</div>"
      ],
      "text/plain": [
       "                           UTC time\n",
       "Unnamed: 0                         \n",
       "24339       2019-08-06T16:51:47.041\n",
       "24349       2019-08-06T16:51:48.043\n",
       "24359       2019-08-06T16:51:49.046\n",
       "24369       2019-08-06T16:51:50.048\n",
       "24379       2019-08-06T16:51:51.050\n",
       "...                             ...\n",
       "25539       2019-08-06T16:53:47.366\n",
       "25549       2019-08-06T16:53:48.369\n",
       "25559       2019-08-06T16:53:49.371\n",
       "25569       2019-08-06T16:53:50.373\n",
       "25579       2019-08-06T16:53:51.376\n",
       "\n",
       "[125 rows x 1 columns]"
      ]
     },
     "execution_count": 8,
     "metadata": {},
     "output_type": "execute_result"
    }
   ],
   "source": [
    "df3 = pd.read_csv(\"test_labels.csv\")\n",
    "df3 = df3.drop(\"timestamp\", axis=1)\n",
    "df3 = df3.drop(\"label\", axis=1)\n",
    "df3 = df3.set_index('Unnamed: 0')\n",
    "df3"
   ]
  },
  {
   "cell_type": "markdown",
   "metadata": {},
   "source": [
    "### Creating Test Dataset "
   ]
  },
  {
   "cell_type": "code",
   "execution_count": 9,
   "metadata": {},
   "outputs": [
    {
     "data": {
      "text/html": [
       "<div>\n",
       "<style scoped>\n",
       "    .dataframe tbody tr th:only-of-type {\n",
       "        vertical-align: middle;\n",
       "    }\n",
       "\n",
       "    .dataframe tbody tr th {\n",
       "        vertical-align: top;\n",
       "    }\n",
       "\n",
       "    .dataframe thead th {\n",
       "        text-align: right;\n",
       "    }\n",
       "</style>\n",
       "<table border=\"1\" class=\"dataframe\">\n",
       "  <thead>\n",
       "    <tr style=\"text-align: right;\">\n",
       "      <th></th>\n",
       "      <th>x</th>\n",
       "      <th>y</th>\n",
       "      <th>z</th>\n",
       "    </tr>\n",
       "    <tr>\n",
       "      <th>Unnamed: 0</th>\n",
       "      <th></th>\n",
       "      <th></th>\n",
       "      <th></th>\n",
       "    </tr>\n",
       "  </thead>\n",
       "  <tbody>\n",
       "    <tr>\n",
       "      <th>24330</th>\n",
       "      <td>0.034286</td>\n",
       "      <td>-1.504456</td>\n",
       "      <td>0.157623</td>\n",
       "    </tr>\n",
       "    <tr>\n",
       "      <th>24331</th>\n",
       "      <td>0.409164</td>\n",
       "      <td>-1.038544</td>\n",
       "      <td>0.030975</td>\n",
       "    </tr>\n",
       "    <tr>\n",
       "      <th>24332</th>\n",
       "      <td>-0.234390</td>\n",
       "      <td>-0.984558</td>\n",
       "      <td>0.124771</td>\n",
       "    </tr>\n",
       "    <tr>\n",
       "      <th>24333</th>\n",
       "      <td>0.251114</td>\n",
       "      <td>-0.787003</td>\n",
       "      <td>0.054810</td>\n",
       "    </tr>\n",
       "    <tr>\n",
       "      <th>24334</th>\n",
       "      <td>0.109924</td>\n",
       "      <td>-0.169510</td>\n",
       "      <td>0.235550</td>\n",
       "    </tr>\n",
       "    <tr>\n",
       "      <th>...</th>\n",
       "      <td>...</td>\n",
       "      <td>...</td>\n",
       "      <td>...</td>\n",
       "    </tr>\n",
       "    <tr>\n",
       "      <th>25575</th>\n",
       "      <td>0.036499</td>\n",
       "      <td>-0.724823</td>\n",
       "      <td>0.553802</td>\n",
       "    </tr>\n",
       "    <tr>\n",
       "      <th>25576</th>\n",
       "      <td>-0.159241</td>\n",
       "      <td>0.307022</td>\n",
       "      <td>0.142410</td>\n",
       "    </tr>\n",
       "    <tr>\n",
       "      <th>25577</th>\n",
       "      <td>-0.037964</td>\n",
       "      <td>-0.673706</td>\n",
       "      <td>1.065445</td>\n",
       "    </tr>\n",
       "    <tr>\n",
       "      <th>25578</th>\n",
       "      <td>0.255707</td>\n",
       "      <td>-1.485397</td>\n",
       "      <td>-0.013336</td>\n",
       "    </tr>\n",
       "    <tr>\n",
       "      <th>25579</th>\n",
       "      <td>-0.089462</td>\n",
       "      <td>-0.734573</td>\n",
       "      <td>-0.100876</td>\n",
       "    </tr>\n",
       "  </tbody>\n",
       "</table>\n",
       "<p>1250 rows × 3 columns</p>\n",
       "</div>"
      ],
      "text/plain": [
       "                   x         y         z\n",
       "Unnamed: 0                              \n",
       "24330       0.034286 -1.504456  0.157623\n",
       "24331       0.409164 -1.038544  0.030975\n",
       "24332      -0.234390 -0.984558  0.124771\n",
       "24333       0.251114 -0.787003  0.054810\n",
       "24334       0.109924 -0.169510  0.235550\n",
       "...              ...       ...       ...\n",
       "25575       0.036499 -0.724823  0.553802\n",
       "25576      -0.159241  0.307022  0.142410\n",
       "25577      -0.037964 -0.673706  1.065445\n",
       "25578       0.255707 -1.485397 -0.013336\n",
       "25579      -0.089462 -0.734573 -0.100876\n",
       "\n",
       "[1250 rows x 3 columns]"
      ]
     },
     "execution_count": 9,
     "metadata": {},
     "output_type": "execute_result"
    }
   ],
   "source": [
    "df4 = pd.read_csv(\"test_time_series.csv\")\n",
    "df4.columns = ['Unnamed: 0', 'timestamp', 'UTC time', 'accuracy','x','y','z']\n",
    "df4 = df4[['Unnamed: 0', 'x','y','z']]\n",
    "df4 = df4.set_index('Unnamed: 0')\n",
    "df4"
   ]
  },
  {
   "cell_type": "code",
   "execution_count": 10,
   "metadata": {},
   "outputs": [
    {
     "data": {
      "text/html": [
       "<div>\n",
       "<style scoped>\n",
       "    .dataframe tbody tr th:only-of-type {\n",
       "        vertical-align: middle;\n",
       "    }\n",
       "\n",
       "    .dataframe tbody tr th {\n",
       "        vertical-align: top;\n",
       "    }\n",
       "\n",
       "    .dataframe thead th {\n",
       "        text-align: right;\n",
       "    }\n",
       "</style>\n",
       "<table border=\"1\" class=\"dataframe\">\n",
       "  <thead>\n",
       "    <tr style=\"text-align: right;\">\n",
       "      <th></th>\n",
       "      <th>x</th>\n",
       "      <th>y</th>\n",
       "      <th>z</th>\n",
       "    </tr>\n",
       "    <tr>\n",
       "      <th>UTC time</th>\n",
       "      <th></th>\n",
       "      <th></th>\n",
       "      <th></th>\n",
       "    </tr>\n",
       "  </thead>\n",
       "  <tbody>\n",
       "    <tr>\n",
       "      <th>2019-08-06T16:51:47.041</th>\n",
       "      <td>0.098282</td>\n",
       "      <td>-0.833771</td>\n",
       "      <td>0.118042</td>\n",
       "    </tr>\n",
       "    <tr>\n",
       "      <th>2019-08-06T16:51:48.043</th>\n",
       "      <td>0.348465</td>\n",
       "      <td>-0.946701</td>\n",
       "      <td>-0.051041</td>\n",
       "    </tr>\n",
       "    <tr>\n",
       "      <th>2019-08-06T16:51:49.046</th>\n",
       "      <td>0.377335</td>\n",
       "      <td>-0.849243</td>\n",
       "      <td>-0.026474</td>\n",
       "    </tr>\n",
       "    <tr>\n",
       "      <th>2019-08-06T16:51:50.048</th>\n",
       "      <td>0.110077</td>\n",
       "      <td>-0.520325</td>\n",
       "      <td>0.312714</td>\n",
       "    </tr>\n",
       "    <tr>\n",
       "      <th>2019-08-06T16:51:51.050</th>\n",
       "      <td>0.283478</td>\n",
       "      <td>-0.892548</td>\n",
       "      <td>-0.085876</td>\n",
       "    </tr>\n",
       "    <tr>\n",
       "      <th>...</th>\n",
       "      <td>...</td>\n",
       "      <td>...</td>\n",
       "      <td>...</td>\n",
       "    </tr>\n",
       "    <tr>\n",
       "      <th>2019-08-06T16:53:47.366</th>\n",
       "      <td>-0.043915</td>\n",
       "      <td>-0.242416</td>\n",
       "      <td>0.068802</td>\n",
       "    </tr>\n",
       "    <tr>\n",
       "      <th>2019-08-06T16:53:48.369</th>\n",
       "      <td>0.118271</td>\n",
       "      <td>-1.212097</td>\n",
       "      <td>0.357468</td>\n",
       "    </tr>\n",
       "    <tr>\n",
       "      <th>2019-08-06T16:53:49.371</th>\n",
       "      <td>0.667404</td>\n",
       "      <td>-0.978851</td>\n",
       "      <td>0.171906</td>\n",
       "    </tr>\n",
       "    <tr>\n",
       "      <th>2019-08-06T16:53:50.373</th>\n",
       "      <td>0.371384</td>\n",
       "      <td>-1.021927</td>\n",
       "      <td>-0.244446</td>\n",
       "    </tr>\n",
       "    <tr>\n",
       "      <th>2019-08-06T16:53:51.376</th>\n",
       "      <td>-0.089462</td>\n",
       "      <td>-0.734573</td>\n",
       "      <td>-0.100876</td>\n",
       "    </tr>\n",
       "  </tbody>\n",
       "</table>\n",
       "<p>125 rows × 3 columns</p>\n",
       "</div>"
      ],
      "text/plain": [
       "                                x         y         z\n",
       "UTC time                                             \n",
       "2019-08-06T16:51:47.041  0.098282 -0.833771  0.118042\n",
       "2019-08-06T16:51:48.043  0.348465 -0.946701 -0.051041\n",
       "2019-08-06T16:51:49.046  0.377335 -0.849243 -0.026474\n",
       "2019-08-06T16:51:50.048  0.110077 -0.520325  0.312714\n",
       "2019-08-06T16:51:51.050  0.283478 -0.892548 -0.085876\n",
       "...                           ...       ...       ...\n",
       "2019-08-06T16:53:47.366 -0.043915 -0.242416  0.068802\n",
       "2019-08-06T16:53:48.369  0.118271 -1.212097  0.357468\n",
       "2019-08-06T16:53:49.371  0.667404 -0.978851  0.171906\n",
       "2019-08-06T16:53:50.373  0.371384 -1.021927 -0.244446\n",
       "2019-08-06T16:53:51.376 -0.089462 -0.734573 -0.100876\n",
       "\n",
       "[125 rows x 3 columns]"
      ]
     },
     "execution_count": 10,
     "metadata": {},
     "output_type": "execute_result"
    }
   ],
   "source": [
    "test_data = pd.concat([df4,df3],axis=1)\n",
    "test_data = test_data.dropna()\n",
    "test_data.set_index('UTC time')"
   ]
  },
  {
   "cell_type": "code",
   "execution_count": 11,
   "metadata": {},
   "outputs": [
    {
     "data": {
      "text/html": [
       "<div>\n",
       "<style scoped>\n",
       "    .dataframe tbody tr th:only-of-type {\n",
       "        vertical-align: middle;\n",
       "    }\n",
       "\n",
       "    .dataframe tbody tr th {\n",
       "        vertical-align: top;\n",
       "    }\n",
       "\n",
       "    .dataframe thead th {\n",
       "        text-align: right;\n",
       "    }\n",
       "</style>\n",
       "<table border=\"1\" class=\"dataframe\">\n",
       "  <thead>\n",
       "    <tr style=\"text-align: right;\">\n",
       "      <th></th>\n",
       "      <th>x</th>\n",
       "      <th>y</th>\n",
       "      <th>z</th>\n",
       "      <th>UTC time</th>\n",
       "      <th>label</th>\n",
       "    </tr>\n",
       "    <tr>\n",
       "      <th>Unnamed: 0</th>\n",
       "      <th></th>\n",
       "      <th></th>\n",
       "      <th></th>\n",
       "      <th></th>\n",
       "      <th></th>\n",
       "    </tr>\n",
       "  </thead>\n",
       "  <tbody>\n",
       "    <tr>\n",
       "      <th>24339</th>\n",
       "      <td>0.098282</td>\n",
       "      <td>-0.833771</td>\n",
       "      <td>0.118042</td>\n",
       "      <td>2019-08-06T16:51:47.041</td>\n",
       "      <td>NaN</td>\n",
       "    </tr>\n",
       "    <tr>\n",
       "      <th>24349</th>\n",
       "      <td>0.348465</td>\n",
       "      <td>-0.946701</td>\n",
       "      <td>-0.051041</td>\n",
       "      <td>2019-08-06T16:51:48.043</td>\n",
       "      <td>NaN</td>\n",
       "    </tr>\n",
       "    <tr>\n",
       "      <th>24359</th>\n",
       "      <td>0.377335</td>\n",
       "      <td>-0.849243</td>\n",
       "      <td>-0.026474</td>\n",
       "      <td>2019-08-06T16:51:49.046</td>\n",
       "      <td>NaN</td>\n",
       "    </tr>\n",
       "    <tr>\n",
       "      <th>24369</th>\n",
       "      <td>0.110077</td>\n",
       "      <td>-0.520325</td>\n",
       "      <td>0.312714</td>\n",
       "      <td>2019-08-06T16:51:50.048</td>\n",
       "      <td>NaN</td>\n",
       "    </tr>\n",
       "    <tr>\n",
       "      <th>24379</th>\n",
       "      <td>0.283478</td>\n",
       "      <td>-0.892548</td>\n",
       "      <td>-0.085876</td>\n",
       "      <td>2019-08-06T16:51:51.050</td>\n",
       "      <td>NaN</td>\n",
       "    </tr>\n",
       "    <tr>\n",
       "      <th>...</th>\n",
       "      <td>...</td>\n",
       "      <td>...</td>\n",
       "      <td>...</td>\n",
       "      <td>...</td>\n",
       "      <td>...</td>\n",
       "    </tr>\n",
       "    <tr>\n",
       "      <th>25539</th>\n",
       "      <td>-0.043915</td>\n",
       "      <td>-0.242416</td>\n",
       "      <td>0.068802</td>\n",
       "      <td>2019-08-06T16:53:47.366</td>\n",
       "      <td>NaN</td>\n",
       "    </tr>\n",
       "    <tr>\n",
       "      <th>25549</th>\n",
       "      <td>0.118271</td>\n",
       "      <td>-1.212097</td>\n",
       "      <td>0.357468</td>\n",
       "      <td>2019-08-06T16:53:48.369</td>\n",
       "      <td>NaN</td>\n",
       "    </tr>\n",
       "    <tr>\n",
       "      <th>25559</th>\n",
       "      <td>0.667404</td>\n",
       "      <td>-0.978851</td>\n",
       "      <td>0.171906</td>\n",
       "      <td>2019-08-06T16:53:49.371</td>\n",
       "      <td>NaN</td>\n",
       "    </tr>\n",
       "    <tr>\n",
       "      <th>25569</th>\n",
       "      <td>0.371384</td>\n",
       "      <td>-1.021927</td>\n",
       "      <td>-0.244446</td>\n",
       "      <td>2019-08-06T16:53:50.373</td>\n",
       "      <td>NaN</td>\n",
       "    </tr>\n",
       "    <tr>\n",
       "      <th>25579</th>\n",
       "      <td>-0.089462</td>\n",
       "      <td>-0.734573</td>\n",
       "      <td>-0.100876</td>\n",
       "      <td>2019-08-06T16:53:51.376</td>\n",
       "      <td>NaN</td>\n",
       "    </tr>\n",
       "  </tbody>\n",
       "</table>\n",
       "<p>125 rows × 5 columns</p>\n",
       "</div>"
      ],
      "text/plain": [
       "                   x         y         z                 UTC time  label\n",
       "Unnamed: 0                                                              \n",
       "24339       0.098282 -0.833771  0.118042  2019-08-06T16:51:47.041    NaN\n",
       "24349       0.348465 -0.946701 -0.051041  2019-08-06T16:51:48.043    NaN\n",
       "24359       0.377335 -0.849243 -0.026474  2019-08-06T16:51:49.046    NaN\n",
       "24369       0.110077 -0.520325  0.312714  2019-08-06T16:51:50.048    NaN\n",
       "24379       0.283478 -0.892548 -0.085876  2019-08-06T16:51:51.050    NaN\n",
       "...              ...       ...       ...                      ...    ...\n",
       "25539      -0.043915 -0.242416  0.068802  2019-08-06T16:53:47.366    NaN\n",
       "25549       0.118271 -1.212097  0.357468  2019-08-06T16:53:48.369    NaN\n",
       "25559       0.667404 -0.978851  0.171906  2019-08-06T16:53:49.371    NaN\n",
       "25569       0.371384 -1.021927 -0.244446  2019-08-06T16:53:50.373    NaN\n",
       "25579      -0.089462 -0.734573 -0.100876  2019-08-06T16:53:51.376    NaN\n",
       "\n",
       "[125 rows x 5 columns]"
      ]
     },
     "execution_count": 11,
     "metadata": {},
     "output_type": "execute_result"
    }
   ],
   "source": [
    "nan = np.empty((125,1))\n",
    "nan[:] = np.nan\n",
    "\n",
    "test_data['label'] = pd.DataFrame(data=nan,index=test_data.index)\n",
    "test_data"
   ]
  },
  {
   "cell_type": "code",
   "execution_count": 12,
   "metadata": {},
   "outputs": [
    {
     "data": {
      "text/plain": [
       "x             0\n",
       "y             0\n",
       "z             0\n",
       "UTC time      0\n",
       "label       125\n",
       "dtype: int64"
      ]
     },
     "execution_count": 12,
     "metadata": {},
     "output_type": "execute_result"
    }
   ],
   "source": [
    "test_data.isna().sum()"
   ]
  },
  {
   "cell_type": "markdown",
   "metadata": {},
   "source": [
    "## Methods "
   ]
  },
  {
   "cell_type": "markdown",
   "metadata": {},
   "source": [
    "This section explains the process and techniques used, such as data cleaning, data exploration and visualization, any insights gained, and your modeling approach."
   ]
  },
  {
   "cell_type": "markdown",
   "metadata": {},
   "source": [
    "### Checking the dataset info "
   ]
  },
  {
   "cell_type": "code",
   "execution_count": 13,
   "metadata": {},
   "outputs": [
    {
     "name": "stdout",
     "output_type": "stream",
     "text": [
      "<class 'pandas.core.frame.DataFrame'>\n",
      "Int64Index: 3741 entries, 20589 to 24329\n",
      "Data columns (total 6 columns):\n",
      " #   Column    Non-Null Count  Dtype  \n",
      "---  ------    --------------  -----  \n",
      " 0   UTC time  3741 non-null   object \n",
      " 1   x         3741 non-null   float64\n",
      " 2   y         3741 non-null   float64\n",
      " 3   z         3741 non-null   float64\n",
      " 4   label     3741 non-null   float64\n",
      " 5   activity  3741 non-null   object \n",
      "dtypes: float64(4), object(2)\n",
      "memory usage: 204.6+ KB\n"
     ]
    }
   ],
   "source": [
    "train_data.info()"
   ]
  },
  {
   "cell_type": "code",
   "execution_count": 14,
   "metadata": {},
   "outputs": [
    {
     "data": {
      "text/plain": [
       "UTC time    0\n",
       "x           0\n",
       "y           0\n",
       "z           0\n",
       "label       0\n",
       "activity    0\n",
       "dtype: int64"
      ]
     },
     "execution_count": 14,
     "metadata": {},
     "output_type": "execute_result"
    }
   ],
   "source": [
    "train_data.isnull().sum()"
   ]
  },
  {
   "cell_type": "code",
   "execution_count": 15,
   "metadata": {},
   "outputs": [],
   "source": [
    "#defining tracking per second\n",
    "#since the data is sampled every 0.1 second, thus each second cosist of 10 entries\n",
    "Fs = 10"
   ]
  },
  {
   "cell_type": "markdown",
   "metadata": {},
   "source": [
    "### Plotting XYZ axis for Each Activity"
   ]
  },
  {
   "cell_type": "code",
   "execution_count": 16,
   "metadata": {},
   "outputs": [
    {
     "data": {
      "image/png": "[encoded data removed]",
      "text/plain": [
       "<Figure size 1080x504 with 3 Axes>"
      ]
     },
     "metadata": {
      "needs_background": "light"
     },
     "output_type": "display_data"
    },
    {
     "data": {
      "image/png": "[encoded data removed]",
      "text/plain": [
       "<Figure size 1080x504 with 3 Axes>"
      ]
     },
     "metadata": {
      "needs_background": "light"
     },
     "output_type": "display_data"
    },
    {
     "data": {
      "image/png": "[encoded data removed]",
      "text/plain": [
       "<Figure size 1080x504 with 3 Axes>"
      ]
     },
     "metadata": {
      "needs_background": "light"
     },
     "output_type": "display_data"
    },
    {
     "data": {
      "image/png": "[encoded data removed]",
      "text/plain": [
       "<Figure size 1080x504 with 3 Axes>"
      ]
     },
     "metadata": {
      "needs_background": "light"
     },
     "output_type": "display_data"
    }
   ],
   "source": [
    "def plot_axis(ax, x, y, title):\n",
    "    ax.plot(x, y, \"g\")\n",
    "    ax.set_title(title)\n",
    "    ax.xaxis.set_visible(False)\n",
    "    ax.set_ylim([min(y)-np.std(y),max(y)+np.std(y)])\n",
    "    ax.set_xlim([min(x),max(x)])\n",
    "    ax.grid(True)\n",
    "    \n",
    "def plot_activity(activity, train_data):\n",
    "    fig, (ax0, ax1, ax2) = plt.subplots(nrows=3, figsize=(15,7), sharex=True)\n",
    "    plot_axis(ax0, train_data['UTC time'], train_data['x'], '$X$-axis')\n",
    "    plot_axis(ax1, train_data['UTC time'], train_data['y'], '$Y$-axis')\n",
    "    plot_axis(ax2, train_data['UTC time'], train_data['z'], '$Z$-axis')\n",
    "    plt.subplots_adjust(hspace=0.2)\n",
    "    fig.suptitle(activity)\n",
    "    plt.subplots_adjust(top=0.90)\n",
    "    plt.show()\n",
    "\n",
    "activities = train_data['activity'].value_counts().index\n",
    "    \n",
    "for activity in activities:\n",
    "    plot_train_data = train_data[(train_data[\"activity\"]==activity)][:Fs*10]\n",
    "    plot_activity(activity, plot_train_data)"
   ]
  },
  {
   "cell_type": "code",
   "execution_count": 17,
   "metadata": {},
   "outputs": [
    {
     "data": {
      "text/plain": [
       "Index(['walking', 'stairs down', 'stairs up', 'standing'], dtype='object')"
      ]
     },
     "execution_count": 17,
     "metadata": {},
     "output_type": "execute_result"
    }
   ],
   "source": [
    "activities = train_data['activity'].value_counts().index\n",
    "activities"
   ]
  },
  {
   "cell_type": "code",
   "execution_count": 18,
   "metadata": {},
   "outputs": [
    {
     "data": {
      "text/plain": [
       "walking        2130\n",
       "stairs down     880\n",
       "stairs up       461\n",
       "standing        270\n",
       "Name: activity, dtype: int64"
      ]
     },
     "execution_count": 18,
     "metadata": {},
     "output_type": "execute_result"
    }
   ],
   "source": [
    "train_data['activity'].value_counts()"
   ]
  },
  {
   "cell_type": "markdown",
   "metadata": {},
   "source": [
    "### Applying Feature Scaling"
   ]
  },
  {
   "cell_type": "markdown",
   "metadata": {},
   "source": [
    "Since the value of `x`, `y`, and `z` is relatively fluctuates in a different amplitudes, feature scaling is required."
   ]
  },
  {
   "cell_type": "code",
   "execution_count": 19,
   "metadata": {},
   "outputs": [
    {
     "data": {
      "text/html": [
       "<div>\n",
       "<style scoped>\n",
       "    .dataframe tbody tr th:only-of-type {\n",
       "        vertical-align: middle;\n",
       "    }\n",
       "\n",
       "    .dataframe tbody tr th {\n",
       "        vertical-align: top;\n",
       "    }\n",
       "\n",
       "    .dataframe thead th {\n",
       "        text-align: right;\n",
       "    }\n",
       "</style>\n",
       "<table border=\"1\" class=\"dataframe\">\n",
       "  <thead>\n",
       "    <tr style=\"text-align: right;\">\n",
       "      <th></th>\n",
       "      <th>x</th>\n",
       "      <th>y</th>\n",
       "      <th>z</th>\n",
       "      <th>label</th>\n",
       "    </tr>\n",
       "  </thead>\n",
       "  <tbody>\n",
       "    <tr>\n",
       "      <th>0</th>\n",
       "      <td>-0.631242</td>\n",
       "      <td>0.038923</td>\n",
       "      <td>-0.044070</td>\n",
       "      <td>1.0</td>\n",
       "    </tr>\n",
       "    <tr>\n",
       "      <th>1</th>\n",
       "      <td>-0.631820</td>\n",
       "      <td>0.003658</td>\n",
       "      <td>0.119694</td>\n",
       "      <td>1.0</td>\n",
       "    </tr>\n",
       "    <tr>\n",
       "      <th>2</th>\n",
       "      <td>-0.522781</td>\n",
       "      <td>0.083520</td>\n",
       "      <td>0.246365</td>\n",
       "      <td>1.0</td>\n",
       "    </tr>\n",
       "    <tr>\n",
       "      <th>3</th>\n",
       "      <td>-0.361767</td>\n",
       "      <td>0.050825</td>\n",
       "      <td>0.430654</td>\n",
       "      <td>1.0</td>\n",
       "    </tr>\n",
       "    <tr>\n",
       "      <th>4</th>\n",
       "      <td>-0.411969</td>\n",
       "      <td>-0.106227</td>\n",
       "      <td>0.490924</td>\n",
       "      <td>1.0</td>\n",
       "    </tr>\n",
       "    <tr>\n",
       "      <th>...</th>\n",
       "      <td>...</td>\n",
       "      <td>...</td>\n",
       "      <td>...</td>\n",
       "      <td>...</td>\n",
       "    </tr>\n",
       "    <tr>\n",
       "      <th>3736</th>\n",
       "      <td>-0.433676</td>\n",
       "      <td>0.652693</td>\n",
       "      <td>-0.154305</td>\n",
       "      <td>4.0</td>\n",
       "    </tr>\n",
       "    <tr>\n",
       "      <th>3737</th>\n",
       "      <td>0.735871</td>\n",
       "      <td>-0.207998</td>\n",
       "      <td>-0.284020</td>\n",
       "      <td>4.0</td>\n",
       "    </tr>\n",
       "    <tr>\n",
       "      <th>3738</th>\n",
       "      <td>0.438250</td>\n",
       "      <td>0.081457</td>\n",
       "      <td>-0.136041</td>\n",
       "      <td>4.0</td>\n",
       "    </tr>\n",
       "    <tr>\n",
       "      <th>3739</th>\n",
       "      <td>-0.071087</td>\n",
       "      <td>0.448577</td>\n",
       "      <td>-0.098731</td>\n",
       "      <td>4.0</td>\n",
       "    </tr>\n",
       "    <tr>\n",
       "      <th>3740</th>\n",
       "      <td>1.246596</td>\n",
       "      <td>0.031519</td>\n",
       "      <td>-0.140998</td>\n",
       "      <td>4.0</td>\n",
       "    </tr>\n",
       "  </tbody>\n",
       "</table>\n",
       "<p>3741 rows × 4 columns</p>\n",
       "</div>"
      ],
      "text/plain": [
       "             x         y         z  label\n",
       "0    -0.631242  0.038923 -0.044070    1.0\n",
       "1    -0.631820  0.003658  0.119694    1.0\n",
       "2    -0.522781  0.083520  0.246365    1.0\n",
       "3    -0.361767  0.050825  0.430654    1.0\n",
       "4    -0.411969 -0.106227  0.490924    1.0\n",
       "...        ...       ...       ...    ...\n",
       "3736 -0.433676  0.652693 -0.154305    4.0\n",
       "3737  0.735871 -0.207998 -0.284020    4.0\n",
       "3738  0.438250  0.081457 -0.136041    4.0\n",
       "3739 -0.071087  0.448577 -0.098731    4.0\n",
       "3740  1.246596  0.031519 -0.140998    4.0\n",
       "\n",
       "[3741 rows x 4 columns]"
      ]
     },
     "execution_count": 19,
     "metadata": {},
     "output_type": "execute_result"
    }
   ],
   "source": [
    "X = train_data[['x', 'y', 'z']]\n",
    "y = train_data[['label']]\n",
    "sc = StandardScaler()\n",
    "X = sc.fit_transform(X)\n",
    "scaled_X = pd.DataFrame(data=X, columns=['x', 'y', 'z'])\n",
    "scaled_X['label'] = y.values\n",
    "scaled_X"
   ]
  },
  {
   "cell_type": "markdown",
   "metadata": {},
   "source": [
    "### Spliting the `train_data` into train set and test set "
   ]
  },
  {
   "cell_type": "code",
   "execution_count": 20,
   "metadata": {},
   "outputs": [
    {
     "data": {
      "text/plain": [
       "((2992, 3), (749, 3))"
      ]
     },
     "execution_count": 20,
     "metadata": {},
     "output_type": "execute_result"
    }
   ],
   "source": [
    "X_train, X_test, y_train, y_test = train_test_split(X, y, test_size = 0.2, random_state=0, stratify=y)\n",
    "X_train.shape, X_test.shape"
   ]
  },
  {
   "cell_type": "code",
   "execution_count": 21,
   "metadata": {},
   "outputs": [
    {
     "data": {
      "text/html": [
       "<div>\n",
       "<style scoped>\n",
       "    .dataframe tbody tr th:only-of-type {\n",
       "        vertical-align: middle;\n",
       "    }\n",
       "\n",
       "    .dataframe tbody tr th {\n",
       "        vertical-align: top;\n",
       "    }\n",
       "\n",
       "    .dataframe thead th {\n",
       "        text-align: right;\n",
       "    }\n",
       "</style>\n",
       "<table border=\"1\" class=\"dataframe\">\n",
       "  <thead>\n",
       "    <tr style=\"text-align: right;\">\n",
       "      <th></th>\n",
       "      <th>UTC time</th>\n",
       "      <th>x</th>\n",
       "      <th>y</th>\n",
       "      <th>z</th>\n",
       "      <th>label</th>\n",
       "      <th>activity</th>\n",
       "    </tr>\n",
       "    <tr>\n",
       "      <th>Unnamed: 0</th>\n",
       "      <th></th>\n",
       "      <th></th>\n",
       "      <th></th>\n",
       "      <th></th>\n",
       "      <th></th>\n",
       "      <th></th>\n",
       "    </tr>\n",
       "  </thead>\n",
       "  <tbody>\n",
       "    <tr>\n",
       "      <th>20589</th>\n",
       "      <td>2019-08-06T16:45:31.087</td>\n",
       "      <td>-0.053802</td>\n",
       "      <td>-0.987701</td>\n",
       "      <td>0.068985</td>\n",
       "      <td>2</td>\n",
       "      <td>standing</td>\n",
       "    </tr>\n",
       "    <tr>\n",
       "      <th>20590</th>\n",
       "      <td>2019-08-06T16:45:31.188</td>\n",
       "      <td>-0.054031</td>\n",
       "      <td>-1.003616</td>\n",
       "      <td>0.126450</td>\n",
       "      <td>2</td>\n",
       "      <td>standing</td>\n",
       "    </tr>\n",
       "    <tr>\n",
       "      <th>20591</th>\n",
       "      <td>2019-08-06T16:45:31.288</td>\n",
       "      <td>-0.010880</td>\n",
       "      <td>-0.967575</td>\n",
       "      <td>0.170898</td>\n",
       "      <td>2</td>\n",
       "      <td>standing</td>\n",
       "    </tr>\n",
       "    <tr>\n",
       "      <th>20592</th>\n",
       "      <td>2019-08-06T16:45:31.388</td>\n",
       "      <td>0.052841</td>\n",
       "      <td>-0.982330</td>\n",
       "      <td>0.235565</td>\n",
       "      <td>2</td>\n",
       "      <td>standing</td>\n",
       "    </tr>\n",
       "    <tr>\n",
       "      <th>20593</th>\n",
       "      <td>2019-08-06T16:45:31.488</td>\n",
       "      <td>0.032974</td>\n",
       "      <td>-1.053207</td>\n",
       "      <td>0.256714</td>\n",
       "      <td>2</td>\n",
       "      <td>standing</td>\n",
       "    </tr>\n",
       "    <tr>\n",
       "      <th>...</th>\n",
       "      <td>...</td>\n",
       "      <td>...</td>\n",
       "      <td>...</td>\n",
       "      <td>...</td>\n",
       "      <td>...</td>\n",
       "      <td>...</td>\n",
       "    </tr>\n",
       "    <tr>\n",
       "      <th>24325</th>\n",
       "      <td>2019-08-06T16:51:45.638</td>\n",
       "      <td>0.024384</td>\n",
       "      <td>-0.710709</td>\n",
       "      <td>0.030304</td>\n",
       "      <td>1</td>\n",
       "      <td>stairs up</td>\n",
       "    </tr>\n",
       "    <tr>\n",
       "      <th>24326</th>\n",
       "      <td>2019-08-06T16:51:45.738</td>\n",
       "      <td>0.487228</td>\n",
       "      <td>-1.099136</td>\n",
       "      <td>-0.015213</td>\n",
       "      <td>1</td>\n",
       "      <td>stairs up</td>\n",
       "    </tr>\n",
       "    <tr>\n",
       "      <th>24327</th>\n",
       "      <td>2019-08-06T16:51:45.838</td>\n",
       "      <td>0.369446</td>\n",
       "      <td>-0.968506</td>\n",
       "      <td>0.036713</td>\n",
       "      <td>1</td>\n",
       "      <td>stairs up</td>\n",
       "    </tr>\n",
       "    <tr>\n",
       "      <th>24328</th>\n",
       "      <td>2019-08-06T16:51:45.939</td>\n",
       "      <td>0.167877</td>\n",
       "      <td>-0.802826</td>\n",
       "      <td>0.049805</td>\n",
       "      <td>1</td>\n",
       "      <td>stairs up</td>\n",
       "    </tr>\n",
       "    <tr>\n",
       "      <th>24329</th>\n",
       "      <td>2019-08-06T16:51:46.039</td>\n",
       "      <td>0.689346</td>\n",
       "      <td>-0.991043</td>\n",
       "      <td>0.034973</td>\n",
       "      <td>1</td>\n",
       "      <td>stairs up</td>\n",
       "    </tr>\n",
       "  </tbody>\n",
       "</table>\n",
       "<p>3741 rows × 6 columns</p>\n",
       "</div>"
      ],
      "text/plain": [
       "                           UTC time         x         y         z  label  \\\n",
       "Unnamed: 0                                                                 \n",
       "20589       2019-08-06T16:45:31.087 -0.053802 -0.987701  0.068985      2   \n",
       "20590       2019-08-06T16:45:31.188 -0.054031 -1.003616  0.126450      2   \n",
       "20591       2019-08-06T16:45:31.288 -0.010880 -0.967575  0.170898      2   \n",
       "20592       2019-08-06T16:45:31.388  0.052841 -0.982330  0.235565      2   \n",
       "20593       2019-08-06T16:45:31.488  0.032974 -1.053207  0.256714      2   \n",
       "...                             ...       ...       ...       ...    ...   \n",
       "24325       2019-08-06T16:51:45.638  0.024384 -0.710709  0.030304      1   \n",
       "24326       2019-08-06T16:51:45.738  0.487228 -1.099136 -0.015213      1   \n",
       "24327       2019-08-06T16:51:45.838  0.369446 -0.968506  0.036713      1   \n",
       "24328       2019-08-06T16:51:45.939  0.167877 -0.802826  0.049805      1   \n",
       "24329       2019-08-06T16:51:46.039  0.689346 -0.991043  0.034973      1   \n",
       "\n",
       "             activity  \n",
       "Unnamed: 0             \n",
       "20589        standing  \n",
       "20590        standing  \n",
       "20591        standing  \n",
       "20592        standing  \n",
       "20593        standing  \n",
       "...               ...  \n",
       "24325       stairs up  \n",
       "24326       stairs up  \n",
       "24327       stairs up  \n",
       "24328       stairs up  \n",
       "24329       stairs up  \n",
       "\n",
       "[3741 rows x 6 columns]"
      ]
     },
     "execution_count": 21,
     "metadata": {},
     "output_type": "execute_result"
    }
   ],
   "source": [
    "#this label encoder will be used for plotting the reault matrix\n",
    "le = LabelEncoder()\n",
    "train_data['label'] = le.fit_transform(train_data['activity'])\n",
    "train_data"
   ]
  },
  {
   "cell_type": "code",
   "execution_count": 22,
   "metadata": {},
   "outputs": [
    {
     "data": {
      "text/plain": [
       "array(['stairs down', 'stairs up', 'standing', 'walking'], dtype=object)"
      ]
     },
     "execution_count": 22,
     "metadata": {},
     "output_type": "execute_result"
    }
   ],
   "source": [
    "le.classes_"
   ]
  },
  {
   "cell_type": "markdown",
   "metadata": {},
   "source": [
    "### Training the Random Forest Classification model on the `train_data`"
   ]
  },
  {
   "cell_type": "code",
   "execution_count": 23,
   "metadata": {},
   "outputs": [
    {
     "name": "stderr",
     "output_type": "stream",
     "text": [
      "/Users/madesgputra/opt/anaconda3/lib/python3.7/site-packages/ipykernel_launcher.py:1: DeprecationWarning: time.clock has been deprecated in Python 3.3 and will be removed from Python 3.8: use time.perf_counter or time.process_time instead\n",
      "  \"\"\"Entry point for launching an IPython kernel.\n",
      "/Users/madesgputra/opt/anaconda3/lib/python3.7/site-packages/ipykernel_launcher.py:4: DataConversionWarning: A column-vector y was passed when a 1d array was expected. Please change the shape of y to (n_samples,), for example using ravel().\n",
      "  after removing the cwd from sys.path.\n"
     ]
    },
    {
     "name": "stdout",
     "output_type": "stream",
     "text": [
      "--- 0.6991329999999998 seconds ---\n"
     ]
    },
    {
     "name": "stderr",
     "output_type": "stream",
     "text": [
      "/Users/madesgputra/opt/anaconda3/lib/python3.7/site-packages/ipykernel_launcher.py:8: DeprecationWarning: time.clock has been deprecated in Python 3.3 and will be removed from Python 3.8: use time.perf_counter or time.process_time instead\n",
      "  \n"
     ]
    }
   ],
   "source": [
    "start_time = time.clock()\n",
    "\n",
    "classifier = RandomForestClassifier(n_estimators=100, criterion=\"entropy\", random_state=1)\n",
    "classifier.fit(X_train, y_train)\n",
    "\n",
    "y_pred = classifier.predict(X_test)\n",
    "\n",
    "end_time = time.clock()\n",
    "duration = end_time - start_time\n",
    "print(\"--- %s seconds ---\" % (duration))"
   ]
  },
  {
   "cell_type": "code",
   "execution_count": 24,
   "metadata": {},
   "outputs": [
    {
     "name": "stdout",
     "output_type": "stream",
     "text": [
      "---61.148197596795725 percent----\n"
     ]
    }
   ],
   "source": [
    "accuracy = accuracy_score(y_pred, y_test)*100\n",
    "print(\"---%s percent----\" % (accuracy))"
   ]
  },
  {
   "cell_type": "markdown",
   "metadata": {},
   "source": [
    "### Making the Confusion Matrix "
   ]
  },
  {
   "cell_type": "code",
   "execution_count": 25,
   "metadata": {},
   "outputs": [
    {
     "name": "stdout",
     "output_type": "stream",
     "text": [
      "[[ 37  14   3   0]\n",
      " [  9 356  47  15]\n",
      " [  3 121  47   5]\n",
      " [  5  63   6  18]]\n"
     ]
    }
   ],
   "source": [
    "cm = confusion_matrix(y_test, y_pred)\n",
    "print(cm)"
   ]
  },
  {
   "cell_type": "code",
   "execution_count": 26,
   "metadata": {},
   "outputs": [
    {
     "data": {
      "image/png": "[encoded data removed]",
      "text/plain": [
       "<Figure size 720x720 with 1 Axes>"
      ]
     },
     "metadata": {
      "needs_background": "light"
     },
     "output_type": "display_data"
    }
   ],
   "source": [
    "y_pred = classifier.predict(X_test)\n",
    "mat = confusion_matrix(y_pred, y_test)\n",
    "plot_confusion_matrix(conf_mat=mat, class_names=le.classes_, show_normed=True, figsize=(10,10));"
   ]
  },
  {
   "cell_type": "markdown",
   "metadata": {},
   "source": [
    "### Testing the Random Forest Classification model on the `test_data`"
   ]
  },
  {
   "cell_type": "code",
   "execution_count": 27,
   "metadata": {},
   "outputs": [],
   "source": [
    "X_train = train_data[['x', 'y', 'z']]\n",
    "y_train = train_data[['label']]\n",
    "X_test = test_data[['x', 'y', 'z']]\n",
    "y_test = test_data[['label']]\n",
    "\n",
    "sc = StandardScaler()\n",
    "X_train = sc.fit_transform(X_train)\n",
    "X_test = sc.fit_transform(X_test)\n",
    "\n",
    "scaled_X_train = pd.DataFrame(data=X_train, columns=['x', 'y', 'z'])\n",
    "scaled_X_train['label'] = y_train.values\n",
    "\n",
    "scaled_X_test = pd.DataFrame(data=X_test, columns=['x', 'y', 'z'])\n",
    "scaled_X_test['label'] = y_test.values"
   ]
  },
  {
   "cell_type": "code",
   "execution_count": 28,
   "metadata": {},
   "outputs": [
    {
     "name": "stderr",
     "output_type": "stream",
     "text": [
      "/Users/madesgputra/opt/anaconda3/lib/python3.7/site-packages/ipykernel_launcher.py:1: DeprecationWarning: time.clock has been deprecated in Python 3.3 and will be removed from Python 3.8: use time.perf_counter or time.process_time instead\n",
      "  \"\"\"Entry point for launching an IPython kernel.\n",
      "/Users/madesgputra/opt/anaconda3/lib/python3.7/site-packages/ipykernel_launcher.py:4: DataConversionWarning: A column-vector y was passed when a 1d array was expected. Please change the shape of y to (n_samples,), for example using ravel().\n",
      "  after removing the cwd from sys.path.\n"
     ]
    },
    {
     "name": "stdout",
     "output_type": "stream",
     "text": [
      "--- 0.6999430000000002 seconds ---\n"
     ]
    },
    {
     "name": "stderr",
     "output_type": "stream",
     "text": [
      "/Users/madesgputra/opt/anaconda3/lib/python3.7/site-packages/ipykernel_launcher.py:8: DeprecationWarning: time.clock has been deprecated in Python 3.3 and will be removed from Python 3.8: use time.perf_counter or time.process_time instead\n",
      "  \n"
     ]
    }
   ],
   "source": [
    "start_time = time.clock()\n",
    "\n",
    "classifier1 = RandomForestClassifier(n_estimators=100, criterion=\"entropy\", random_state=1)\n",
    "classifier1.fit(X_train, y_train)\n",
    "\n",
    "y_pred1 = classifier.predict(X_test)\n",
    "\n",
    "end_time = time.clock()\n",
    "duration = end_time - start_time\n",
    "print(\"--- %s seconds ---\" % (duration))"
   ]
  },
  {
   "cell_type": "markdown",
   "metadata": {},
   "source": [
    "## Result"
   ]
  },
  {
   "cell_type": "markdown",
   "metadata": {},
   "source": [
    "This section presents the modeling results and discusses the model performance. \n",
    "\n",
    "The model resulted in a relatively low preddiction with less than 70% is considered low for a medium size dataset sized 1000-10000 entries. Other method such as Decission Tree, Kernel SVM already been evalueated and showing even lower value."
   ]
  },
  {
   "cell_type": "code",
   "execution_count": 29,
   "metadata": {},
   "outputs": [
    {
     "data": {
      "text/plain": [
       "array([2, 2, 2, 2, 2, 2, 2, 2, 4, 2, 2, 3, 2, 2, 2, 3, 2, 4, 2, 2, 2, 2,\n",
       "       4, 2, 3, 2, 2, 2, 2, 2, 3, 2, 2, 2, 2, 2, 2, 1, 1, 1, 1, 1, 1, 1,\n",
       "       1, 1, 1, 1, 1, 2, 2, 2, 1, 1, 2, 3, 2, 2, 3, 2, 2, 4, 2, 2, 3, 2,\n",
       "       2, 3, 4, 3, 2, 2, 2, 2, 3, 2, 3, 3, 2, 2, 2, 2, 2, 3, 3, 4, 2, 2,\n",
       "       2, 2, 2, 2, 2, 2, 2, 2, 2, 2, 2, 2, 2, 2, 2, 2, 3, 3, 2, 2, 2, 3,\n",
       "       2, 2, 2, 2, 2, 2, 2, 2, 2, 2, 2, 2, 2, 2, 2])"
      ]
     },
     "execution_count": 29,
     "metadata": {},
     "output_type": "execute_result"
    }
   ],
   "source": [
    "y_pred1 = y_pred1.astype('int')\n",
    "y_pred1 = np.array(y_pred1)\n",
    "y_pred1"
   ]
  },
  {
   "cell_type": "code",
   "execution_count": 30,
   "metadata": {},
   "outputs": [
    {
     "data": {
      "text/html": [
       "<div>\n",
       "<style scoped>\n",
       "    .dataframe tbody tr th:only-of-type {\n",
       "        vertical-align: middle;\n",
       "    }\n",
       "\n",
       "    .dataframe tbody tr th {\n",
       "        vertical-align: top;\n",
       "    }\n",
       "\n",
       "    .dataframe thead th {\n",
       "        text-align: right;\n",
       "    }\n",
       "</style>\n",
       "<table border=\"1\" class=\"dataframe\">\n",
       "  <thead>\n",
       "    <tr style=\"text-align: right;\">\n",
       "      <th></th>\n",
       "      <th>x</th>\n",
       "      <th>y</th>\n",
       "      <th>z</th>\n",
       "      <th>UTC time</th>\n",
       "      <th>label</th>\n",
       "    </tr>\n",
       "    <tr>\n",
       "      <th>Unnamed: 0</th>\n",
       "      <th></th>\n",
       "      <th></th>\n",
       "      <th></th>\n",
       "      <th></th>\n",
       "      <th></th>\n",
       "    </tr>\n",
       "  </thead>\n",
       "  <tbody>\n",
       "    <tr>\n",
       "      <th>24339</th>\n",
       "      <td>0.098282</td>\n",
       "      <td>-0.833771</td>\n",
       "      <td>0.118042</td>\n",
       "      <td>2019-08-06T16:51:47.041</td>\n",
       "      <td>NaN</td>\n",
       "    </tr>\n",
       "    <tr>\n",
       "      <th>24349</th>\n",
       "      <td>0.348465</td>\n",
       "      <td>-0.946701</td>\n",
       "      <td>-0.051041</td>\n",
       "      <td>2019-08-06T16:51:48.043</td>\n",
       "      <td>NaN</td>\n",
       "    </tr>\n",
       "    <tr>\n",
       "      <th>24359</th>\n",
       "      <td>0.377335</td>\n",
       "      <td>-0.849243</td>\n",
       "      <td>-0.026474</td>\n",
       "      <td>2019-08-06T16:51:49.046</td>\n",
       "      <td>NaN</td>\n",
       "    </tr>\n",
       "    <tr>\n",
       "      <th>24369</th>\n",
       "      <td>0.110077</td>\n",
       "      <td>-0.520325</td>\n",
       "      <td>0.312714</td>\n",
       "      <td>2019-08-06T16:51:50.048</td>\n",
       "      <td>NaN</td>\n",
       "    </tr>\n",
       "    <tr>\n",
       "      <th>24379</th>\n",
       "      <td>0.283478</td>\n",
       "      <td>-0.892548</td>\n",
       "      <td>-0.085876</td>\n",
       "      <td>2019-08-06T16:51:51.050</td>\n",
       "      <td>NaN</td>\n",
       "    </tr>\n",
       "    <tr>\n",
       "      <th>...</th>\n",
       "      <td>...</td>\n",
       "      <td>...</td>\n",
       "      <td>...</td>\n",
       "      <td>...</td>\n",
       "      <td>...</td>\n",
       "    </tr>\n",
       "    <tr>\n",
       "      <th>25539</th>\n",
       "      <td>-0.043915</td>\n",
       "      <td>-0.242416</td>\n",
       "      <td>0.068802</td>\n",
       "      <td>2019-08-06T16:53:47.366</td>\n",
       "      <td>NaN</td>\n",
       "    </tr>\n",
       "    <tr>\n",
       "      <th>25549</th>\n",
       "      <td>0.118271</td>\n",
       "      <td>-1.212097</td>\n",
       "      <td>0.357468</td>\n",
       "      <td>2019-08-06T16:53:48.369</td>\n",
       "      <td>NaN</td>\n",
       "    </tr>\n",
       "    <tr>\n",
       "      <th>25559</th>\n",
       "      <td>0.667404</td>\n",
       "      <td>-0.978851</td>\n",
       "      <td>0.171906</td>\n",
       "      <td>2019-08-06T16:53:49.371</td>\n",
       "      <td>NaN</td>\n",
       "    </tr>\n",
       "    <tr>\n",
       "      <th>25569</th>\n",
       "      <td>0.371384</td>\n",
       "      <td>-1.021927</td>\n",
       "      <td>-0.244446</td>\n",
       "      <td>2019-08-06T16:53:50.373</td>\n",
       "      <td>NaN</td>\n",
       "    </tr>\n",
       "    <tr>\n",
       "      <th>25579</th>\n",
       "      <td>-0.089462</td>\n",
       "      <td>-0.734573</td>\n",
       "      <td>-0.100876</td>\n",
       "      <td>2019-08-06T16:53:51.376</td>\n",
       "      <td>NaN</td>\n",
       "    </tr>\n",
       "  </tbody>\n",
       "</table>\n",
       "<p>125 rows × 5 columns</p>\n",
       "</div>"
      ],
      "text/plain": [
       "                   x         y         z                 UTC time  label\n",
       "Unnamed: 0                                                              \n",
       "24339       0.098282 -0.833771  0.118042  2019-08-06T16:51:47.041    NaN\n",
       "24349       0.348465 -0.946701 -0.051041  2019-08-06T16:51:48.043    NaN\n",
       "24359       0.377335 -0.849243 -0.026474  2019-08-06T16:51:49.046    NaN\n",
       "24369       0.110077 -0.520325  0.312714  2019-08-06T16:51:50.048    NaN\n",
       "24379       0.283478 -0.892548 -0.085876  2019-08-06T16:51:51.050    NaN\n",
       "...              ...       ...       ...                      ...    ...\n",
       "25539      -0.043915 -0.242416  0.068802  2019-08-06T16:53:47.366    NaN\n",
       "25549       0.118271 -1.212097  0.357468  2019-08-06T16:53:48.369    NaN\n",
       "25559       0.667404 -0.978851  0.171906  2019-08-06T16:53:49.371    NaN\n",
       "25569       0.371384 -1.021927 -0.244446  2019-08-06T16:53:50.373    NaN\n",
       "25579      -0.089462 -0.734573 -0.100876  2019-08-06T16:53:51.376    NaN\n",
       "\n",
       "[125 rows x 5 columns]"
      ]
     },
     "execution_count": 30,
     "metadata": {},
     "output_type": "execute_result"
    }
   ],
   "source": [
    "test_data"
   ]
  },
  {
   "cell_type": "code",
   "execution_count": 31,
   "metadata": {},
   "outputs": [],
   "source": [
    "test_data['label'] = y_pred1"
   ]
  },
  {
   "cell_type": "code",
   "execution_count": 32,
   "metadata": {},
   "outputs": [
    {
     "data": {
      "text/html": [
       "<div>\n",
       "<style scoped>\n",
       "    .dataframe tbody tr th:only-of-type {\n",
       "        vertical-align: middle;\n",
       "    }\n",
       "\n",
       "    .dataframe tbody tr th {\n",
       "        vertical-align: top;\n",
       "    }\n",
       "\n",
       "    .dataframe thead th {\n",
       "        text-align: right;\n",
       "    }\n",
       "</style>\n",
       "<table border=\"1\" class=\"dataframe\">\n",
       "  <thead>\n",
       "    <tr style=\"text-align: right;\">\n",
       "      <th></th>\n",
       "      <th>x</th>\n",
       "      <th>y</th>\n",
       "      <th>z</th>\n",
       "      <th>UTC time</th>\n",
       "      <th>label</th>\n",
       "    </tr>\n",
       "    <tr>\n",
       "      <th>Unnamed: 0</th>\n",
       "      <th></th>\n",
       "      <th></th>\n",
       "      <th></th>\n",
       "      <th></th>\n",
       "      <th></th>\n",
       "    </tr>\n",
       "  </thead>\n",
       "  <tbody>\n",
       "    <tr>\n",
       "      <th>24339</th>\n",
       "      <td>0.098282</td>\n",
       "      <td>-0.833771</td>\n",
       "      <td>0.118042</td>\n",
       "      <td>2019-08-06T16:51:47.041</td>\n",
       "      <td>2</td>\n",
       "    </tr>\n",
       "    <tr>\n",
       "      <th>24349</th>\n",
       "      <td>0.348465</td>\n",
       "      <td>-0.946701</td>\n",
       "      <td>-0.051041</td>\n",
       "      <td>2019-08-06T16:51:48.043</td>\n",
       "      <td>2</td>\n",
       "    </tr>\n",
       "    <tr>\n",
       "      <th>24359</th>\n",
       "      <td>0.377335</td>\n",
       "      <td>-0.849243</td>\n",
       "      <td>-0.026474</td>\n",
       "      <td>2019-08-06T16:51:49.046</td>\n",
       "      <td>2</td>\n",
       "    </tr>\n",
       "    <tr>\n",
       "      <th>24369</th>\n",
       "      <td>0.110077</td>\n",
       "      <td>-0.520325</td>\n",
       "      <td>0.312714</td>\n",
       "      <td>2019-08-06T16:51:50.048</td>\n",
       "      <td>2</td>\n",
       "    </tr>\n",
       "    <tr>\n",
       "      <th>24379</th>\n",
       "      <td>0.283478</td>\n",
       "      <td>-0.892548</td>\n",
       "      <td>-0.085876</td>\n",
       "      <td>2019-08-06T16:51:51.050</td>\n",
       "      <td>2</td>\n",
       "    </tr>\n",
       "    <tr>\n",
       "      <th>...</th>\n",
       "      <td>...</td>\n",
       "      <td>...</td>\n",
       "      <td>...</td>\n",
       "      <td>...</td>\n",
       "      <td>...</td>\n",
       "    </tr>\n",
       "    <tr>\n",
       "      <th>25539</th>\n",
       "      <td>-0.043915</td>\n",
       "      <td>-0.242416</td>\n",
       "      <td>0.068802</td>\n",
       "      <td>2019-08-06T16:53:47.366</td>\n",
       "      <td>2</td>\n",
       "    </tr>\n",
       "    <tr>\n",
       "      <th>25549</th>\n",
       "      <td>0.118271</td>\n",
       "      <td>-1.212097</td>\n",
       "      <td>0.357468</td>\n",
       "      <td>2019-08-06T16:53:48.369</td>\n",
       "      <td>2</td>\n",
       "    </tr>\n",
       "    <tr>\n",
       "      <th>25559</th>\n",
       "      <td>0.667404</td>\n",
       "      <td>-0.978851</td>\n",
       "      <td>0.171906</td>\n",
       "      <td>2019-08-06T16:53:49.371</td>\n",
       "      <td>2</td>\n",
       "    </tr>\n",
       "    <tr>\n",
       "      <th>25569</th>\n",
       "      <td>0.371384</td>\n",
       "      <td>-1.021927</td>\n",
       "      <td>-0.244446</td>\n",
       "      <td>2019-08-06T16:53:50.373</td>\n",
       "      <td>2</td>\n",
       "    </tr>\n",
       "    <tr>\n",
       "      <th>25579</th>\n",
       "      <td>-0.089462</td>\n",
       "      <td>-0.734573</td>\n",
       "      <td>-0.100876</td>\n",
       "      <td>2019-08-06T16:53:51.376</td>\n",
       "      <td>2</td>\n",
       "    </tr>\n",
       "  </tbody>\n",
       "</table>\n",
       "<p>125 rows × 5 columns</p>\n",
       "</div>"
      ],
      "text/plain": [
       "                   x         y         z                 UTC time  label\n",
       "Unnamed: 0                                                              \n",
       "24339       0.098282 -0.833771  0.118042  2019-08-06T16:51:47.041      2\n",
       "24349       0.348465 -0.946701 -0.051041  2019-08-06T16:51:48.043      2\n",
       "24359       0.377335 -0.849243 -0.026474  2019-08-06T16:51:49.046      2\n",
       "24369       0.110077 -0.520325  0.312714  2019-08-06T16:51:50.048      2\n",
       "24379       0.283478 -0.892548 -0.085876  2019-08-06T16:51:51.050      2\n",
       "...              ...       ...       ...                      ...    ...\n",
       "25539      -0.043915 -0.242416  0.068802  2019-08-06T16:53:47.366      2\n",
       "25549       0.118271 -1.212097  0.357468  2019-08-06T16:53:48.369      2\n",
       "25559       0.667404 -0.978851  0.171906  2019-08-06T16:53:49.371      2\n",
       "25569       0.371384 -1.021927 -0.244446  2019-08-06T16:53:50.373      2\n",
       "25579      -0.089462 -0.734573 -0.100876  2019-08-06T16:53:51.376      2\n",
       "\n",
       "[125 rows x 5 columns]"
      ]
     },
     "execution_count": 32,
     "metadata": {},
     "output_type": "execute_result"
    }
   ],
   "source": [
    "result = test_data\n",
    "result"
   ]
  },
  {
   "cell_type": "code",
   "execution_count": 34,
   "metadata": {},
   "outputs": [],
   "source": [
    "result.to_csv('test_result.csv')"
   ]
  },
  {
   "cell_type": "markdown",
   "metadata": {},
   "source": [
    "## Conclusion"
   ]
  },
  {
   "cell_type": "markdown",
   "metadata": {},
   "source": [
    "The writer's hyphotesis is that the classifier model is best suited for binary data. for non binary data perhaps method such as clustering could be considered a better performing method."
   ]
  }
 ],
 "metadata": {
  "kernelspec": {
   "display_name": "Python 3",
   "language": "python",
   "name": "python3"
  },
  "language_info": {
   "codemirror_mode": {
    "name": "ipython",
    "version": 3
   },
   "file_extension": ".py",
   "mimetype": "text/x-python",
   "name": "python",
   "nbconvert_exporter": "python",
   "pygments_lexer": "ipython3",
   "version": "3.7.6"
  }
 },
 "nbformat": 4,
 "nbformat_minor": 4
}
